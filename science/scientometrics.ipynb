{
 "cells": [
  {
   "cell_type": "code",
   "execution_count": null,
   "metadata": {
    "collapsed": true
   },
   "outputs": [],
   "source": [
    "import numpy as np\n",
    "import os\n",
    "\n",
    "import pandas as pd\n",
    "import torch\n",
    "import pickle\n",
    "\n",
    "from tqdm import tqdm\n",
    "from itertools import repeat\n",
    "from util import *\n",
    "from visualization import *\n",
    "from multiprocessing import Pool\n",
    "ffffff"
   ]
  },
  {
   "cell_type": "code",
   "execution_count": null,
   "outputs": [],
   "source": [
    "from minio import Minio\n",
    "\n",
    "client = Minio(\"minio.pish.pstu.ru:80\", access_key=\"U28XMjtvu9y6IdsThVBK\", secret_key=\"tK0xuwoYxFBRSOLHy7dMdhD7ec6JZH7lSUNd5PXR\", secure=False)\n",
    "\n",
    "bucket_name = \"ai-data\"\n",
    "folder_name = \"scitinder_data\"\n",
    "for item in client.list_objects(bucket_name, recursive=True):\n",
    "    if folder_name in item.object_name:\n",
    "        client.fget_object(bucket_name, item.object_name, item.object_name)"
   ],
   "metadata": {
    "collapsed": false
   }
  },
  {
   "cell_type": "code",
   "execution_count": null,
   "outputs": [],
   "source": [
    "def get_required_idxs(author_df, organization_df, organization_name):\n",
    "    \"\"\"Позволяет получить индексы авторов, которые входят в указанную организацию\n",
    "\n",
    "    :param author_df: сущность \"author\"\n",
    "    :param organization_df: сущность \"organization\"\n",
    "    :param organization_name: название организации для которой считается статистика\n",
    "    :return: required_idxs: список требуемых индексов\n",
    "    \"\"\"\n",
    "\n",
    "    required_idx = organization_df[organization_df[\"name\"] == organization_name].index.values[0] + 1\n",
    "    author_df = author_df[author_df[\"organization_id\"] == float(required_idx)]\n",
    "    required_idxs = author_df.index.values + 1\n",
    "    return required_idxs\n",
    "\n",
    "\n",
    "def entourage_coverage(adjacency_list, required_idxs=None, k=5, parallel=False):\n",
    "    \"\"\"\n",
    "    :param adjacency_list: список смежности (словарь, где key - индекс автора, value - индексы соавторов)\n",
    "    :param required_idxs: список требуемых индексов авторов для подсчета статистики\n",
    "    :param k: порядок окружение, вплоть до которого производится расчет статистики\n",
    "    :param parallel: выполнение функции в режиме multiprocessing\n",
    "    :return:\n",
    "    \"\"\"\n",
    "\n",
    "    if required_idxs is None:\n",
    "        required_idxs = list(adjacency_list.keys())\n",
    "\n",
    "    if parallel:\n",
    "        with Pool() as pool:\n",
    "            source_entourages = list(pool.starmap(\n",
    "                    find_entourage_for_stats,\n",
    "                    zip(repeat(adjacency_list), required_idxs, repeat(k))\n",
    "                )\n",
    "            )\n",
    "    else:\n",
    "        source_entourages = []\n",
    "        for source_id in tqdm(required_idxs):\n",
    "            tree = find_entourage_for_stats(adjacency_list, source_id, k)\n",
    "            source_entourages.append(tree)\n",
    "    return source_entourages\n",
    "\n",
    "\n",
    "def handshake_distribution(adjacency_list, required_idxs=None, k=10, parallel=False):\n",
    "    \"\"\"\n",
    "\n",
    "    :param adjacency_list: список смежности (словарь, где key - индекс автора, value - индексы соавторов)\n",
    "    :param required_idxs: список требуемых индексов авторов для подсчета статистики\n",
    "    :param k: порядок окружение, вплоть до которого производится расчет статистики (количество bins в распределении)\n",
    "    :param parallel: выполнение функции в режиме multiprocessing\n",
    "    :return:\n",
    "    \"\"\"\n",
    "    if required_idxs is None:\n",
    "        required_idxs = list(adjacency_list.keys())\n",
    "\n",
    "    handshake_number = []\n",
    "    if parallel:\n",
    "        for source_id in tqdm(required_idxs):\n",
    "            with Pool() as pool:\n",
    "                distances = list(pool.starmap(\n",
    "                    source_target_distance,\n",
    "                    zip(repeat(adjacency_list), repeat(source_id), list(adjacency_list.keys()), repeat(k // 2))\n",
    "                ))\n",
    "            handshake_number.append(distances)\n",
    "        handshake_number = flatten(handshake_number)\n",
    "    else:\n",
    "        for source_id in tqdm(required_idxs):\n",
    "            for target_id in list(adjacency_list.keys()):\n",
    "                source_tree, target_tree, inter = find_tree_from_list(adjacency_list, source_id, target_id, k // 2)\n",
    "                if inter is not None:\n",
    "                    handshake_number.append(len(source_tree.keys()) + len(target_tree.keys()))\n",
    "    return handshake_number"
   ],
   "metadata": {
    "collapsed": false
   }
  },
  {
   "cell_type": "code",
   "execution_count": null,
   "outputs": [],
   "source": [
    "if __name__ == \"__main__\":\n",
    "    root_path = r\"scitinder_data\"\n",
    "    root_path_parquet = r\"scitinder_data\"\n",
    "    adjacency_list_path = os.path.join(root_path, \"adjacency_list.pkl\")\n",
    "    embedding_idxs_path = os.path.join(root_path, \"idxs_all-mpnet-base-v2.pt\")\n",
    "    author_path = os.path.join(root_path_parquet, \"author.parquet\")\n",
    "    organization_path = os.path.join(root_path_parquet, \"organization.parquet\")\n",
    "\n",
    "    author_df = pd.read_parquet(author_path)\n",
    "    organization_df = pd.read_parquet(organization_path)\n",
    "    with open(adjacency_list_path, \"rb\") as f:\n",
    "        adjacency_list = pickle.load(f)\n",
    "    embedding_idxs = torch.load(embedding_idxs_path)\n",
    "\n",
    "    author_df = author_df.iloc[embedding_idxs - 1]\n",
    "    organization_name = \"PAWLIN Technologies LLC\"\n",
    "\n",
    "    required_idxs = get_required_idxs(author_df, organization_df, organization_name)\n",
    "\n",
    "    source_entourages = entourage_coverage(adjacency_list, required_idxs, 5)\n",
    "    plot_entourage_coverage(source_entourages)\n",
    "\n",
    "    #handshake_number = handshake_distribution(adjacency_list, required_idxs, k=5)"
   ],
   "metadata": {
    "collapsed": false
   }
  }
 ],
 "metadata": {
  "kernelspec": {
   "display_name": "Python 3",
   "language": "python",
   "name": "python3"
  },
  "language_info": {
   "codemirror_mode": {
    "name": "ipython",
    "version": 2
   },
   "file_extension": ".py",
   "mimetype": "text/x-python",
   "name": "python",
   "nbconvert_exporter": "python",
   "pygments_lexer": "ipython2",
   "version": "2.7.6"
  }
 },
 "nbformat": 4,
 "nbformat_minor": 0
}
