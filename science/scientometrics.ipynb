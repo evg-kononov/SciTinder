{
 "cells": [
  {
   "cell_type": "code",
   "execution_count": 1,
   "metadata": {
    "tags": []
   },
   "outputs": [],
   "source": [
    "import numpy as np\n",
    "import os\n",
    "\n",
    "import pandas as pd\n",
    "import torch\n",
    "import pickle\n",
    "\n",
    "from tqdm import tqdm\n",
    "from itertools import repeat\n",
    "from util import *\n",
    "from visualization import *\n",
    "from multiprocessing import Pool"
   ]
  },
  {
   "cell_type": "code",
   "execution_count": null,
   "metadata": {
    "collapsed": false,
    "jupyter": {
     "outputs_hidden": false
    }
   },
   "outputs": [],
   "source": [
    "from minio import Minio\n",
    "\n",
    "client = Minio(\"minio.pish.pstu.ru:80\", access_key=\"U28XMjtvu9y6IdsThVBK\", secret_key=\"tK0xuwoYxFBRSOLHy7dMdhD7ec6JZH7lSUNd5PXR\", secure=False)\n",
    "\n",
    "bucket_name = \"ai-data\"\n",
    "folder_name = \"scitinder_data\"\n",
    "for item in client.list_objects(bucket_name, recursive=True):\n",
    "    if folder_name in item.object_name:\n",
    "        client.fget_object(bucket_name, item.object_name, item.object_name)"
   ]
  },
  {
   "cell_type": "code",
   "execution_count": 24,
   "metadata": {
    "collapsed": false,
    "jupyter": {
     "outputs_hidden": false
    }
   },
   "outputs": [],
   "source": [
    "def get_required_idxs(author_df, organization_df, organization_name):\n",
    "    \"\"\"Позволяет получить индексы авторов, которые входят в указанную организацию\n",
    "\n",
    "    :param author_df: сущность \"author\"\n",
    "    :param organization_df: сущность \"organization\"\n",
    "    :param organization_name: название организации для которой считается статистика\n",
    "    :return: required_idxs: список требуемых индексов\n",
    "    \"\"\"\n",
    "\n",
    "    required_idx = organization_df[organization_df[\"name\"] == organization_name].index.values[0] + 1\n",
    "    author_df = author_df[author_df[\"organization_id\"] == float(required_idx)]\n",
    "    required_idxs = author_df.index.values + 1\n",
    "    return required_idxs\n",
    "\n",
    "\n",
    "def entourage_coverage(adjacency_list, required_idxs=None, k=5, parallel=False):\n",
    "    \"\"\"\n",
    "    :param adjacency_list: список смежности (словарь, где key - индекс автора, value - индексы соавторов)\n",
    "    :param required_idxs: список требуемых индексов авторов для подсчета статистики\n",
    "    :param k: порядок окружение, вплоть до которого производится расчет статистики\n",
    "    :param parallel: выполнение функции в режиме multiprocessing\n",
    "    :return:\n",
    "    \"\"\"\n",
    "\n",
    "    if required_idxs is None:\n",
    "        required_idxs = list(adjacency_list.keys())\n",
    "\n",
    "    if parallel:\n",
    "        with Pool() as pool:\n",
    "            source_entourages = list(pool.starmap(\n",
    "                    find_entourage_for_stats,\n",
    "                    zip(repeat(adjacency_list), required_idxs, repeat(k))\n",
    "                )\n",
    "            )\n",
    "    else:\n",
    "        source_entourages = []\n",
    "        for source_id in tqdm(required_idxs):\n",
    "            tree = find_entourage_for_stats(adjacency_list, source_id, k)\n",
    "            source_entourages.append(tree)\n",
    "    return source_entourages\n",
    "\n",
    "\n",
    "def handshake_distribution(adjacency_list, required_idxs=None, k=10, parallel=False):\n",
    "    \"\"\"\n",
    "\n",
    "    :param adjacency_list: список смежности (словарь, где key - индекс автора, value - индексы соавторов)\n",
    "    :param required_idxs: список требуемых индексов авторов для подсчета статистики\n",
    "    :param k: порядок окружение, вплоть до которого производится расчет статистики (количество bins в распределении)\n",
    "    :param parallel: выполнение функции в режиме multiprocessing\n",
    "    :return:\n",
    "    \"\"\"\n",
    "    if required_idxs is None:\n",
    "        required_idxs = list(adjacency_list.keys())\n",
    "\n",
    "    handshake_number = []\n",
    "    if parallel:\n",
    "        for source_id in tqdm(required_idxs):\n",
    "            with Pool() as pool:\n",
    "                distances = list(pool.starmap(\n",
    "                    source_target_distance,\n",
    "                    zip(repeat(adjacency_list), repeat(source_id), list(adjacency_list.keys()), repeat(k // 2))\n",
    "                ))\n",
    "            handshake_number.append(distances)\n",
    "        handshake_number = flatten(handshake_number)\n",
    "    else:\n",
    "        for source_id in tqdm(required_idxs):\n",
    "            for target_id in list(adjacency_list.keys()):\n",
    "                source_tree, target_tree, inter = find_tree_from_list(adjacency_list, source_id, target_id, k // 2)\n",
    "                if inter is not None:\n",
    "                    handshake_number.append(len(source_tree.keys()) + len(target_tree.keys()))\n",
    "    return handshake_number"
   ]
  },
  {
   "cell_type": "code",
   "execution_count": 26,
   "metadata": {
    "collapsed": false,
    "jupyter": {
     "outputs_hidden": false
    }
   },
   "outputs": [
    {
     "name": "stderr",
     "output_type": "stream",
     "text": [
      "  0%|          | 0/1785 [19:12<?, ?it/s]\n"
     ]
    },
    {
     "ename": "KeyboardInterrupt",
     "evalue": "",
     "output_type": "error",
     "traceback": [
      "\u001B[0;31m---------------------------------------------------------------------------\u001B[0m",
      "\u001B[0;31mKeyboardInterrupt\u001B[0m                         Traceback (most recent call last)",
      "Cell \u001B[0;32mIn[26], line 20\u001B[0m\n\u001B[1;32m     16\u001B[0m organization_name \u001B[38;5;241m=\u001B[39m \u001B[38;5;124m\"\u001B[39m\u001B[38;5;124mPerm National Research Polytechnic University\u001B[39m\u001B[38;5;124m\"\u001B[39m\n\u001B[1;32m     18\u001B[0m required_idxs \u001B[38;5;241m=\u001B[39m get_required_idxs(author_df, organization_df, organization_name)\n\u001B[0;32m---> 20\u001B[0m source_entourages \u001B[38;5;241m=\u001B[39m \u001B[43mentourage_coverage\u001B[49m\u001B[43m(\u001B[49m\u001B[43madjacency_list\u001B[49m\u001B[43m,\u001B[49m\u001B[43m \u001B[49m\u001B[43mrequired_idxs\u001B[49m\u001B[43m,\u001B[49m\u001B[43m \u001B[49m\u001B[38;5;241;43m9\u001B[39;49m\u001B[43m)\u001B[49m\n\u001B[1;32m     21\u001B[0m plot_entourage_coverage(source_entourages)\n\u001B[1;32m     23\u001B[0m \u001B[38;5;66;03m#handshake_number = handshake_distribution(adjacency_list, required_idxs, k=5)\u001B[39;00m\n",
      "Cell \u001B[0;32mIn[24], line 38\u001B[0m, in \u001B[0;36mentourage_coverage\u001B[0;34m(adjacency_list, required_idxs, k, parallel)\u001B[0m\n\u001B[1;32m     36\u001B[0m     source_entourages \u001B[38;5;241m=\u001B[39m []\n\u001B[1;32m     37\u001B[0m     \u001B[38;5;28;01mfor\u001B[39;00m source_id \u001B[38;5;129;01min\u001B[39;00m tqdm(required_idxs):\n\u001B[0;32m---> 38\u001B[0m         tree \u001B[38;5;241m=\u001B[39m \u001B[43mfind_entourage_for_stats\u001B[49m\u001B[43m(\u001B[49m\u001B[43madjacency_list\u001B[49m\u001B[43m,\u001B[49m\u001B[43m \u001B[49m\u001B[43msource_id\u001B[49m\u001B[43m,\u001B[49m\u001B[43m \u001B[49m\u001B[43mk\u001B[49m\u001B[43m)\u001B[49m\n\u001B[1;32m     39\u001B[0m         source_entourages\u001B[38;5;241m.\u001B[39mappend(tree)\n\u001B[1;32m     40\u001B[0m \u001B[38;5;28;01mreturn\u001B[39;00m source_entourages\n",
      "File \u001B[0;32m~/SciTinder/science/util.py:37\u001B[0m, in \u001B[0;36mfind_entourage_for_stats\u001B[0;34m(adjacency_list, source_id, knees_num)\u001B[0m\n\u001B[1;32m     35\u001B[0m \u001B[38;5;28;01mif\u001B[39;00m \u001B[38;5;28mlen\u001B[39m(inter) \u001B[38;5;241m!=\u001B[39m \u001B[38;5;241m0\u001B[39m:\n\u001B[1;32m     36\u001B[0m     values \u001B[38;5;241m=\u001B[39m values \u001B[38;5;241m-\u001B[39m unique_keys\n\u001B[0;32m---> 37\u001B[0m     unique_keys \u001B[38;5;241m=\u001B[39m \u001B[43munique_keys\u001B[49m\u001B[43m \u001B[49m\u001B[38;5;241;43m|\u001B[39;49m\u001B[43m \u001B[49m\u001B[43mvalues\u001B[49m\n\u001B[1;32m     38\u001B[0m \u001B[38;5;28;01melse\u001B[39;00m:\n\u001B[1;32m     39\u001B[0m     unique_keys \u001B[38;5;241m=\u001B[39m unique_keys \u001B[38;5;241m|\u001B[39m values\n",
      "\u001B[0;31mKeyboardInterrupt\u001B[0m: "
     ]
    }
   ],
   "source": [
    "if __name__ == \"__main__\":\n",
    "    root_path = r\"scitinder_data\"\n",
    "    root_path_parquet = r\"scitinder_data\"\n",
    "    adjacency_list_path = os.path.join(root_path, \"adjacency_list.pkl\")\n",
    "    embedding_idxs_path = os.path.join(root_path, \"idxs_all-mpnet-base-v2.pt\")\n",
    "    author_path = os.path.join(root_path_parquet, \"author.parquet\")\n",
    "    organization_path = os.path.join(root_path_parquet, \"organization.parquet\")\n",
    "\n",
    "    author_df = pd.read_parquet(author_path)\n",
    "    organization_df = pd.read_parquet(organization_path)\n",
    "    with open(adjacency_list_path, \"rb\") as f:\n",
    "        adjacency_list = pickle.load(f)\n",
    "    embedding_idxs = torch.load(embedding_idxs_path)\n",
    "\n",
    "    author_df = author_df.iloc[embedding_idxs - 1]\n",
    "    organization_name = \"Perm National Research Polytechnic University\"\n",
    "\n",
    "    required_idxs = get_required_idxs(author_df, organization_df, organization_name)\n",
    "\n",
    "    source_entourages = entourage_coverage(adjacency_list, required_idxs, 9)\n",
    "    plot_entourage_coverage(source_entourages)\n",
    "\n",
    "    #handshake_number = handshake_distribution(adjacency_list, required_idxs, k=5)"
   ]
  },
  {
   "cell_type": "code",
   "execution_count": null,
   "metadata": {},
   "outputs": [],
   "source": []
  }
 ],
 "metadata": {
  "kernelspec": {
   "display_name": "Python 3 (ipykernel)",
   "language": "python",
   "name": "python3"
  },
  "language_info": {
   "codemirror_mode": {
    "name": "ipython",
    "version": 3
   },
   "file_extension": ".py",
   "mimetype": "text/x-python",
   "name": "python",
   "nbconvert_exporter": "python",
   "pygments_lexer": "ipython3",
   "version": "3.8.10"
  }
 },
 "nbformat": 4,
 "nbformat_minor": 4
}
